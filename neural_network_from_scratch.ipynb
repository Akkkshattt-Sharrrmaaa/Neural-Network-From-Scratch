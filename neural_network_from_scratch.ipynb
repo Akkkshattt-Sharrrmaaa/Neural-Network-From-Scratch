{
 "cells": [
  {
   "cell_type": "code",
   "execution_count": 2,
   "metadata": {},
   "outputs": [],
   "source": [
    "import numpy as np\n",
    "from tensorflow.keras.datasets import fashion_mnist\n",
    "from sklearn.model_selection import train_test_split\n",
    "from tensorflow.keras.utils import to_categorical"
   ]
  },
  {
   "cell_type": "code",
   "execution_count": 4,
   "metadata": {},
   "outputs": [],
   "source": [
    "class NeuralNetwork():\n",
    "    def __init__(self):\n",
    "        np.random.seed(1)\n",
    "\n",
    "        self.synaptic_weights_0 = 2 * np.random.random((784, 64)) - 1\n",
    "        self.synaptic_weights_1 = 2 * np.random.random((64, 10)) - 1\n",
    "\n",
    "    def sigmoid(self, x):\n",
    "        return 1 / (1 + np.exp(-x))\n",
    "\n",
    "    def sigmoid_derivative(self, x):\n",
    "        return x * (1 - x)\n",
    "\n",
    "    def train(self, training_inputs, training_outputs, training_iterations):\n",
    "        for iteration in range(training_iterations):\n",
    "\n",
    "            print(\"Iteration no : \", iteration)\n",
    "\n",
    "            layer_0 = training_inputs\n",
    "            layer_1 = self.sigmoid(np.dot(layer_0, self.synaptic_weights_0))\n",
    "            layer_2 = self.sigmoid(np.dot(layer_1, self.synaptic_weights_1))\n",
    "\n",
    "            error_2 = training_outputs - layer_2\n",
    "            error_2_delta = error_2 * self.sigmoid_derivative(layer_2)\n",
    "\n",
    "            error_1 = error_2_delta.dot(self.synaptic_weights_1.T)\n",
    "            error_1_delta = error_1 * self.sigmoid_derivative(layer_1)\n",
    "\n",
    "            adjustments_0 = layer_0.T.dot(error_1_delta)\n",
    "            adjustments_1 = layer_1.T.dot(error_2_delta)\n",
    "\n",
    "            self.synaptic_weights_0 = self.synaptic_weights_0 + adjustments_0\n",
    "            self.synaptic_weights_1 = self.synaptic_weights_1 + adjustments_1\n",
    "\n",
    "            if iteration % 100 == 0:\n",
    "                loss = np.mean(np.abs(error_2))\n",
    "                accuracy = 1 - loss\n",
    "                print(f\"Iteration {iteration}, Loss: {loss:.5f}, Accuracy: {accuracy:.5f}\")\n",
    "\n",
    "        print(\"\\nTraining complete.\")\n",
    "        print(\"\\nFinal Metrics:\")\n",
    "        final_loss = np.mean(np.abs(error_2))\n",
    "        final_accuracy = 1 - final_loss\n",
    "        print(f\"Final Loss: {final_loss:.5f}\")\n",
    "        print(f\"Final Accuracy: {final_accuracy:.5f}\")\n",
    "\n",
    "        return self.synaptic_weights_0, self.synaptic_weights_1\n",
    "\n",
    "    def think(self, inputs):\n",
    "        inputs = inputs.astype(float)\n",
    "        layer_1 = self.sigmoid(np.dot(inputs, self.synaptic_weights_0))\n",
    "        layer_2 = self.sigmoid(np.dot(layer_1, self.synaptic_weights_1))\n",
    "        return layer_2"
   ]
  },
  {
   "cell_type": "code",
   "execution_count": 5,
   "metadata": {},
   "outputs": [
    {
     "name": "stdout",
     "output_type": "stream",
     "text": [
      "Iteration no :  0\n",
      "Iteration 0, Loss: 0.57921, Accuracy: 0.42079\n",
      "Iteration no :  1\n"
     ]
    },
    {
     "name": "stderr",
     "output_type": "stream",
     "text": [
      "/var/folders/34/bh891ndx1zl2t06hcsntg3080000gn/T/ipykernel_23072/901587144.py:9: RuntimeWarning: overflow encountered in exp\n",
      "  return 1 / (1 + np.exp(-x))\n"
     ]
    },
    {
     "name": "stdout",
     "output_type": "stream",
     "text": [
      "Iteration no :  2\n",
      "Iteration no :  3\n",
      "Iteration no :  4\n",
      "Iteration no :  5\n",
      "Iteration no :  6\n",
      "Iteration no :  7\n",
      "Iteration no :  8\n",
      "Iteration no :  9\n",
      "Iteration no :  10\n",
      "Iteration no :  11\n",
      "Iteration no :  12\n",
      "Iteration no :  13\n",
      "Iteration no :  14\n",
      "Iteration no :  15\n",
      "Iteration no :  16\n",
      "Iteration no :  17\n",
      "Iteration no :  18\n",
      "Iteration no :  19\n",
      "Iteration no :  20\n",
      "Iteration no :  21\n",
      "Iteration no :  22\n",
      "Iteration no :  23\n",
      "Iteration no :  24\n",
      "Iteration no :  25\n",
      "Iteration no :  26\n",
      "Iteration no :  27\n",
      "Iteration no :  28\n",
      "Iteration no :  29\n",
      "\n",
      "Training complete.\n",
      "\n",
      "Final Metrics:\n",
      "Final Loss: 0.10000\n",
      "Final Accuracy: 0.90000\n"
     ]
    }
   ],
   "source": [
    "if __name__ == \"__main__\":\n",
    "    nn = NeuralNetwork()\n",
    "\n",
    "    # Load the Fashion MNIST dataset\n",
    "    (X_train, y_train), (X_test, y_test) = fashion_mnist.load_data()\n",
    "\n",
    "    # Flatten the images and normalize the pixel values\n",
    "    X_train = X_train.reshape(X_train.shape[0], -1) / 255.0\n",
    "    X_test = X_test.reshape(X_test.shape[0], -1) / 255.0\n",
    "\n",
    "\n",
    "    y_train = to_categorical(y_train)\n",
    "    y_test = to_categorical(y_test)\n",
    "\n",
    "\n",
    "    X_train, X_val, y_train, y_val = train_test_split(X_train, y_train, test_size=0.2, random_state=42)\n",
    "\n",
    "\n",
    "    final_weights_0, final_weights_1 = nn.train(training_inputs=X_train, training_outputs=y_train, training_iterations=30)\n",
    "\n",
    "\n",
    "    predictions_val = nn.think(X_val)\n",
    "\n",
    "    # Convert predicted probabilities to class labels\n",
    "    predictions_val_classes = np.argmax(predictions_val, axis=1)\n",
    "    true_labels_val = np.argmax(y_val, axis=1)\n",
    "\n",
    "    # Evaluate accuracy on the validation set\n",
    "    accuracy_val = np.mean(predictions_val_classes == true_labels_val)"
   ]
  }
 ],
 "metadata": {
  "kernelspec": {
   "display_name": "Python 3",
   "language": "python",
   "name": "python3"
  },
  "language_info": {
   "codemirror_mode": {
    "name": "ipython",
    "version": 3
   },
   "file_extension": ".py",
   "mimetype": "text/x-python",
   "name": "python",
   "nbconvert_exporter": "python",
   "pygments_lexer": "ipython3",
   "version": "3.11.6"
  }
 },
 "nbformat": 4,
 "nbformat_minor": 2
}
